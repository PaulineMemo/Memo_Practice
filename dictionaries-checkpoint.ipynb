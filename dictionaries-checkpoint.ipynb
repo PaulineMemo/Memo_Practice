{
 "cells": [
  {
   "cell_type": "code",
   "execution_count": 1,
   "id": "275b5d2b",
   "metadata": {},
   "outputs": [
    {
     "data": {
      "text/plain": [
       "{'name': 'James Bond', 'age': 77, 'country': 'UK'}"
      ]
     },
     "execution_count": 1,
     "metadata": {},
     "output_type": "execute_result"
    }
   ],
   "source": [
    "person = {'name': 'James Bond', 'age':77, 'country': 'UK'}\n",
    "person\n"
   ]
  },
  {
   "cell_type": "code",
   "execution_count": 4,
   "id": "c18ea3a7",
   "metadata": {},
   "outputs": [
    {
     "data": {
      "text/plain": [
       "{'name': 'James Bond', 'age': 77, 'country': 'UK', 'city': 'London'}"
      ]
     },
     "execution_count": 4,
     "metadata": {},
     "output_type": "execute_result"
    }
   ],
   "source": [
    "person = {'name': 'James Bond', 'age':77, 'country': 'UK'}\n",
    "person['city']= 'London'\n",
    "person"
   ]
  },
  {
   "cell_type": "code",
   "execution_count": 5,
   "id": "70b91ec1",
   "metadata": {},
   "outputs": [
    {
     "data": {
      "text/plain": [
       "{'name': 'Pauline', 'age': 30, 'country': 'UK'}"
      ]
     },
     "execution_count": 5,
     "metadata": {},
     "output_type": "execute_result"
    }
   ],
   "source": [
    "person = {'name': 'James Bond', 'age':77, 'country': 'UK'}\n",
    "person['name']='Pauline'\n",
    "person['age']=30\n",
    "person"
   ]
  },
  {
   "cell_type": "code",
   "execution_count": 8,
   "id": "c220228d",
   "metadata": {},
   "outputs": [
    {
     "data": {
      "text/plain": [
       "{'age': 77, 'country': 'UK'}"
      ]
     },
     "execution_count": 8,
     "metadata": {},
     "output_type": "execute_result"
    }
   ],
   "source": [
    "person = {'name': 'James Bond', 'age':77, 'country': 'UK'}\n",
    "del person['name']\n",
    "person"
   ]
  },
  {
   "cell_type": "code",
   "execution_count": 11,
   "id": "d9d9ecd0",
   "metadata": {},
   "outputs": [
    {
     "name": "stdout",
     "output_type": "stream",
     "text": [
      "{'animaltype': 'Dog', 'name': 'Mike', 'age': 2}\n"
     ]
    }
   ],
   "source": [
    "pets = {'animaltype': 'Dog', 'name': 'Mike', 'age': 2, 'color': 'black'}\n",
    "name=pets.pop('color')\n",
    "name\n",
    "print(pets)"
   ]
  },
  {
   "cell_type": "code",
   "execution_count": 17,
   "id": "d36e7b3b",
   "metadata": {},
   "outputs": [
    {
     "data": {
      "text/plain": [
       "('color', 'black')"
      ]
     },
     "execution_count": 17,
     "metadata": {},
     "output_type": "execute_result"
    }
   ],
   "source": [
    "pets = {'animaltype': 'Dog', 'name': 'Mike', 'age': 2, 'color': 'black'}\n",
    "age=pets.popitem()\n",
    "age"
   ]
  },
  {
   "cell_type": "code",
   "execution_count": 16,
   "id": "a5714416",
   "metadata": {},
   "outputs": [
    {
     "data": {
      "text/plain": [
       "{'animaltype': 'Dog', 'name': 'Mike', 'age': 2}"
      ]
     },
     "execution_count": 16,
     "metadata": {},
     "output_type": "execute_result"
    }
   ],
   "source": [
    "pets"
   ]
  },
  {
   "cell_type": "code",
   "execution_count": null,
   "id": "b404ca1c",
   "metadata": {},
   "outputs": [],
   "source": []
  }
 ],
 "metadata": {
  "kernelspec": {
   "display_name": "Python 3 (ipykernel)",
   "language": "python",
   "name": "python3"
  },
  "language_info": {
   "codemirror_mode": {
    "name": "ipython",
    "version": 3
   },
   "file_extension": ".py",
   "mimetype": "text/x-python",
   "name": "python",
   "nbconvert_exporter": "python",
   "pygments_lexer": "ipython3",
   "version": "3.9.7"
  }
 },
 "nbformat": 4,
 "nbformat_minor": 5
}
